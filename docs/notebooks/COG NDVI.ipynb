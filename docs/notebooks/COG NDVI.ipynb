{
 "cells": [
  {
   "cell_type": "markdown",
   "metadata": {},
   "source": [
    "# Calculate NDVI from Landsat 8 COGs on AWS\n",
    "\n",
    "This is an example of using COGs from AWS to calculate NDVI for specific areas, removing the need to download and store large imagery."
   ]
  },
  {
   "cell_type": "code",
   "execution_count": 2,
   "metadata": {},
   "outputs": [],
   "source": [
    "import rasterio\n",
    "import matplotlib.pyplot as plt\n",
    "import numpy as np\n",
    "from rasterio.plot import show\n",
    "import geopandas as gpd\n",
    "from rasterio.mask import mask\n",
    "import os"
   ]
  },
  {
   "cell_type": "markdown",
   "metadata": {},
   "source": [
    "This example uses the following tile. Normally you should select the appropriate tile based on the path and row of interest, along with the capture date.\n",
    "\n",
    "Each band is stored in a separate TIFF file on the server. Since the only calculation we are interested in is NDVI, only URLs for bands 3 and 4 are used."
   ]
  },
  {
   "cell_type": "code",
   "execution_count": 3,
   "metadata": {},
   "outputs": [],
   "source": [
    "b4_url = 'http://landsat-pds.s3.amazonaws.com/c1/L8/037/024/LC08_L1TP_037024_20200824_20200905_01_T1/LC08_L1TP_037024_20200824_20200905_01_T1_B4.TIF'\n",
    "b3_url = 'http://landsat-pds.s3.amazonaws.com/c1/L8/037/024/LC08_L1TP_037024_20200824_20200905_01_T1/LC08_L1TP_037024_20200824_20200905_01_T1_B3.TIF'"
   ]
  },
  {
   "cell_type": "markdown",
   "metadata": {},
   "source": [
    "A mask is used to select only the portion of the image we are interested in. Setting a mask lets us avoid having to download the entire image, making processing faster and reducing overall resource usage."
   ]
  },
  {
   "cell_type": "code",
   "execution_count": 4,
   "metadata": {},
   "outputs": [],
   "source": [
    "# Load the shapefile as a GeoDataFrame\n",
    "mask_gdf = gpd.read_file('mask_boundary.shp')"
   ]
  },
  {
   "cell_type": "markdown",
   "metadata": {},
   "source": [
    "Download the red and NIR bands from the tile. These are the only bands of interest for calculating NDVI, which is why only these ones are downloaded.\n",
    "\n",
    "This masks the downloaded image from the polygons in the boundary file. COGs will result in a significant boost in time and data by allowing you to download only the area of interest."
   ]
  },
  {
   "cell_type": "code",
   "execution_count": 25,
   "metadata": {},
   "outputs": [],
   "source": [
    "# Download the masked area of band 3\n",
    "with rasterio.open(b3_url) as src:\n",
    "    b3, b3_mask_transform = mask(dataset=src, shapes=mask_gdf.geometry, crop=True)"
   ]
  },
  {
   "cell_type": "code",
   "execution_count": 26,
   "metadata": {},
   "outputs": [],
   "source": [
    "# Download the masked area of band 4\n",
    "with rasterio.open(b4_url) as src:\n",
    "    b4, b4_mask_transform = mask(dataset=src, shapes=mask_gdf.geometry, crop=True)"
   ]
  },
  {
   "cell_type": "markdown",
   "metadata": {},
   "source": [
    "Calculate NDVI from the red and NIR bands.\n",
    "\n",
    "Note: Numpy is set to ignore any errors associated with NoData values."
   ]
  },
  {
   "cell_type": "code",
   "execution_count": 29,
   "metadata": {},
   "outputs": [],
   "source": [
    "# Allow division by zero\n",
    "np.seterr(divide='ignore', invalid='ignore')\n",
    "\n",
    "# Calculate the NDVI\n",
    "ndvi = (b4.astype(float) - b3.astype(float)) / (b4 + b3)"
   ]
  },
  {
   "cell_type": "code",
   "execution_count": 30,
   "metadata": {},
   "outputs": [
    {
     "data": {
      "image/png": "[encoded data removed]",
      "text/plain": [
       "<Figure size 432x288 with 1 Axes>"
      ]
     },
     "metadata": {
      "needs_background": "light"
     },
     "output_type": "display_data"
    },
    {
     "data": {
      "text/plain": [
       "<AxesSubplot:>"
      ]
     },
     "execution_count": 30,
     "metadata": {},
     "output_type": "execute_result"
    }
   ],
   "source": [
    "show(ndvi)"
   ]
  },
  {
   "cell_type": "code",
   "execution_count": null,
   "metadata": {},
   "outputs": [],
   "source": []
  }
 ],
 "metadata": {
  "kernelspec": {
   "display_name": "Python 3",
   "language": "python",
   "name": "python3"
  },
  "language_info": {
   "codemirror_mode": {
    "name": "ipython",
    "version": 3
   },
   "file_extension": ".py",
   "mimetype": "text/x-python",
   "name": "python",
   "nbconvert_exporter": "python",
   "pygments_lexer": "ipython3",
   "version": "3.8.6"
  }
 },
 "nbformat": 4,
 "nbformat_minor": 4
}
